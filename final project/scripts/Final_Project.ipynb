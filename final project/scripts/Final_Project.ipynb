{
 "cells": [
  {
   "cell_type": "code",
   "execution_count": 1,
   "metadata": {},
   "outputs": [],
   "source": [
    "#It's an application that opens up with an admin password, and you have to know this beforehand. \n",
    "#Its hard coded within the code itself. This unlocks access to keywords to obtain passwords related to those \n",
    "#key words. For example; using the key word chase will return the password from the users chase account. If its the \n",
    "#users first time using that key word it will prompt the user to enter a password related to that key word. All of \n",
    "#this is safe because I used an encyrption method known as vernam cipher \n",
    "#To run the application just run the following code in the script folder: 'python application.py'"
   ]
  },
  {
   "cell_type": "code",
   "execution_count": 3,
   "metadata": {},
   "outputs": [
    {
     "ename": "ModuleNotFoundError",
     "evalue": "No module named 'PasswordStorage'",
     "output_type": "error",
     "traceback": [
      "\u001b[0;31m---------------------------------------------------------------------------\u001b[0m",
      "\u001b[0;31mModuleNotFoundError\u001b[0m                       Traceback (most recent call last)",
      "\u001b[0;32m<ipython-input-3-dc7e176af328>\u001b[0m in \u001b[0;36m<module>\u001b[0;34m\u001b[0m\n\u001b[1;32m      3\u001b[0m \u001b[0msys\u001b[0m\u001b[0;34m.\u001b[0m\u001b[0mpath\u001b[0m\u001b[0;34m.\u001b[0m\u001b[0mappend\u001b[0m\u001b[0;34m(\u001b[0m\u001b[0;34m'../my_module'\u001b[0m\u001b[0;34m)\u001b[0m\u001b[0;34m\u001b[0m\u001b[0;34m\u001b[0m\u001b[0m\n\u001b[1;32m      4\u001b[0m \u001b[0;34m\u001b[0m\u001b[0m\n\u001b[0;32m----> 5\u001b[0;31m \u001b[0;32mfrom\u001b[0m \u001b[0mPasswordStorage\u001b[0m \u001b[0;32mimport\u001b[0m \u001b[0mPasswordStorage\u001b[0m\u001b[0;34m\u001b[0m\u001b[0;34m\u001b[0m\u001b[0m\n\u001b[0m\u001b[1;32m      6\u001b[0m \u001b[0;34m\u001b[0m\u001b[0m\n\u001b[1;32m      7\u001b[0m \u001b[0;31m# Script to run the password prompt.\u001b[0m\u001b[0;34m\u001b[0m\u001b[0;34m\u001b[0m\u001b[0;34m\u001b[0m\u001b[0m\n",
      "\u001b[0;31mModuleNotFoundError\u001b[0m: No module named 'PasswordStorage'"
     ]
    }
   ],
   "source": [
    "# Or just run this \n",
    "import sys\n",
    "sys.path.append('../my_module')\n",
    "\n",
    "from PasswordStorage import PasswordStorage\n",
    "\n",
    "# Script to run the password prompt.\n",
    "print(\"Enter the password to the system: \")\n",
    "usr_password = sys.stdin.readline().rstrip()\n",
    "\n",
    "paa = PasswordStorage( usr_password)\n",
    "paa.update_file()\n",
    "print(\"Press 'c' to continue or anything else to quit\")\n",
    "\n",
    "# keep asking the user if they want to keep checking for passwords using keywords.\n",
    "while sys.stdin.readline().rstrip() == 'c':\n",
    "    paa.decoded_password = None\n",
    "    paa.decoded_password = paa.decode_password(paa.get_key())\n",
    "    if paa.decoded_password != None:\n",
    "        print(\"Your password is: \" + paa.get_password())\n",
    "\n",
    "    print(\"Press 'c' to continue or anything else to quit\")\n",
    "\n",
    "    paa.update_file()"
   ]
  },
  {
   "cell_type": "code",
   "execution_count": null,
   "metadata": {},
   "outputs": [],
   "source": []
  }
 ],
 "metadata": {
  "kernelspec": {
   "display_name": "Python 3",
   "language": "python",
   "name": "python3"
  },
  "language_info": {
   "codemirror_mode": {
    "name": "ipython",
    "version": 3
   },
   "file_extension": ".py",
   "mimetype": "text/x-python",
   "name": "python",
   "nbconvert_exporter": "python",
   "pygments_lexer": "ipython3",
   "version": "3.6.7"
  }
 },
 "nbformat": 4,
 "nbformat_minor": 2
}
